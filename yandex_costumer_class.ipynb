{
  "nbformat": 4,
  "nbformat_minor": 0,
  "metadata": {
    "colab": {
      "provenance": []
    },
    "kernelspec": {
      "name": "python3",
      "display_name": "Python 3"
    },
    "language_info": {
      "name": "python"
    },
    "accelerator": "GPU",
    "gpuClass": "standard"
  },
  "cells": [
    {
      "cell_type": "code",
      "source": [
        "import pandas as pd\n",
        "from sklearn.model_selection import train_test_split\n",
        "import numpy as np\n",
        "import tensorflow as tf\n",
        "\n",
        "# Load the data\n",
        "data = pd.read_csv('/content/gym_data.csv')\n",
        "data=data.iloc[:,0:-1]\n",
        "data=data.drop(['Row','Zipcode','Registration' ], axis=1)\n",
        "X=data.drop(['Exited'],axis=1)\n",
        "#data=np.mean(data,axis=1)\n",
        "# Normalize\n",
        "X = (X-np.mean(X,axis=0))/np.std(X)\n",
        "data\n",
        "#print(X)\n",
        "# Split the data into training and testing sets\n",
        "X_train, X_test, y_train, y_test = train_test_split(X, data['Exited'], test_size=0.2, random_state=42)\n"
      ],
      "metadata": {
        "id": "IJUIrW9TR_2Y"
      },
      "execution_count": null,
      "outputs": []
    },
    {
      "cell_type": "code",
      "source": [
        "data"
      ],
      "metadata": {
        "id": "ig2YBwFdXha4"
      },
      "execution_count": null,
      "outputs": []
    },
    {
      "cell_type": "code",
      "source": [],
      "metadata": {
        "id": "-Xv2kKFydCnB"
      },
      "execution_count": null,
      "outputs": []
    },
    {
      "cell_type": "code",
      "source": [
        "X"
      ],
      "metadata": {
        "id": "nadm8oWSWRM8"
      },
      "execution_count": null,
      "outputs": []
    },
    {
      "cell_type": "code",
      "source": [
        "\n",
        "from sklearn.metrics import f1_score\n",
        "\n",
        "def f1_metric(y_true, y_pred):\n",
        "    y_pred = tf.round(y_pred)\n",
        "    return tf.py_function(f1_score, (y_true, y_pred), tf.float32)"
      ],
      "metadata": {
        "id": "mV3liqUGdv-3"
      },
      "execution_count": null,
      "outputs": []
    },
    {
      "cell_type": "code",
      "execution_count": null,
      "metadata": {
        "colab": {
          "base_uri": "https://localhost:8080/"
        },
        "id": "52LydO5tR4KX",
        "outputId": "e857a55a-dd93-43c9-9045-e3a2a45205ac"
      },
      "outputs": [
        {
          "output_type": "stream",
          "name": "stdout",
          "text": [
            "\n",
            " start *************************\n",
            "\n",
            "Epoch 1/50\n"
          ]
        },
        {
          "output_type": "stream",
          "name": "stderr",
          "text": [
            "/usr/local/lib/python3.9/dist-packages/keras/backend.py:5703: UserWarning: \"`binary_crossentropy` received `from_logits=True`, but the `output` argument was produced by a Sigmoid activation and thus does not represent logits. Was this intended?\n",
            "  output, from_logits = _get_logits(\n"
          ]
        },
        {
          "output_type": "stream",
          "name": "stdout",
          "text": [
            "203/203 [==============================] - 3s 7ms/step - loss: 0.3025 - f1_metric: 0.7410\n",
            "Epoch 2/50\n",
            "132/203 [==================>...........] - ETA: 0s - loss: 0.0931 - f1_metric: 0.9190"
          ]
        },
        {
          "output_type": "stream",
          "name": "stderr",
          "text": [
            "/usr/local/lib/python3.9/dist-packages/sklearn/metrics/_classification.py:1609: UndefinedMetricWarning: F-score is ill-defined and being set to 0.0 due to no true nor predicted samples. Use `zero_division` parameter to control this behavior.\n",
            "  _warn_prf(average, \"true nor predicted\", \"F-score is\", len(true_sum))\n"
          ]
        },
        {
          "output_type": "stream",
          "name": "stdout",
          "text": [
            "203/203 [==============================] - 1s 6ms/step - loss: 0.0878 - f1_metric: 0.9247\n",
            "Epoch 3/50\n",
            "203/203 [==============================] - 1s 5ms/step - loss: 0.0707 - f1_metric: 0.9428\n",
            "Epoch 4/50\n",
            "203/203 [==============================] - 1s 5ms/step - loss: 0.0685 - f1_metric: 0.9456\n",
            "Epoch 5/50\n",
            "203/203 [==============================] - 1s 5ms/step - loss: 0.0656 - f1_metric: 0.9491\n",
            "Epoch 6/50\n",
            "203/203 [==============================] - 1s 5ms/step - loss: 0.0650 - f1_metric: 0.9509\n",
            "Epoch 7/50\n",
            "203/203 [==============================] - 1s 5ms/step - loss: 0.0638 - f1_metric: 0.9475\n",
            "Epoch 8/50\n",
            "203/203 [==============================] - 1s 5ms/step - loss: 0.0633 - f1_metric: 0.9524\n",
            "Epoch 9/50\n",
            "203/203 [==============================] - 1s 5ms/step - loss: 0.0634 - f1_metric: 0.9523\n",
            "Epoch 10/50\n",
            "203/203 [==============================] - 1s 5ms/step - loss: 0.0621 - f1_metric: 0.9501\n",
            "Epoch 11/50\n",
            "203/203 [==============================] - 1s 5ms/step - loss: 0.0620 - f1_metric: 0.9502\n",
            "Epoch 12/50\n",
            "203/203 [==============================] - 2s 8ms/step - loss: 0.0623 - f1_metric: 0.9462\n",
            "Epoch 13/50\n",
            "203/203 [==============================] - 1s 5ms/step - loss: 0.0626 - f1_metric: 0.9453\n",
            "Epoch 14/50\n",
            "203/203 [==============================] - 1s 5ms/step - loss: 0.0616 - f1_metric: 0.9501\n",
            "Epoch 15/50\n",
            "203/203 [==============================] - 1s 5ms/step - loss: 0.0618 - f1_metric: 0.9527\n",
            "Epoch 16/50\n",
            "203/203 [==============================] - 1s 5ms/step - loss: 0.0614 - f1_metric: 0.9471\n",
            "Epoch 17/50\n",
            "203/203 [==============================] - 1s 5ms/step - loss: 0.0613 - f1_metric: 0.9508\n",
            "Epoch 18/50\n",
            "203/203 [==============================] - 1s 5ms/step - loss: 0.0606 - f1_metric: 0.9476\n",
            "Epoch 19/50\n",
            "203/203 [==============================] - 1s 5ms/step - loss: 0.0618 - f1_metric: 0.9492\n",
            "Epoch 20/50\n",
            "203/203 [==============================] - 1s 5ms/step - loss: 0.0603 - f1_metric: 0.9499\n",
            "Epoch 21/50\n",
            "203/203 [==============================] - 1s 5ms/step - loss: 0.0614 - f1_metric: 0.9513\n",
            "Epoch 22/50\n",
            "203/203 [==============================] - 1s 7ms/step - loss: 0.0613 - f1_metric: 0.9493\n",
            "Epoch 23/50\n",
            "203/203 [==============================] - 1s 6ms/step - loss: 0.0596 - f1_metric: 0.9510\n",
            "Epoch 24/50\n",
            "203/203 [==============================] - 1s 5ms/step - loss: 0.0602 - f1_metric: 0.9521\n",
            "Epoch 25/50\n",
            "203/203 [==============================] - 1s 5ms/step - loss: 0.0592 - f1_metric: 0.9532\n",
            "Epoch 26/50\n",
            "203/203 [==============================] - 1s 5ms/step - loss: 0.0599 - f1_metric: 0.9529\n",
            "Epoch 27/50\n",
            "203/203 [==============================] - 1s 5ms/step - loss: 0.0595 - f1_metric: 0.9541\n",
            "Epoch 28/50\n",
            "203/203 [==============================] - 1s 5ms/step - loss: 0.0581 - f1_metric: 0.9498\n",
            "Epoch 29/50\n",
            "203/203 [==============================] - 1s 5ms/step - loss: 0.0594 - f1_metric: 0.9519\n",
            "Epoch 30/50\n",
            "203/203 [==============================] - 1s 5ms/step - loss: 0.0593 - f1_metric: 0.9527\n",
            "Epoch 31/50\n",
            "203/203 [==============================] - 1s 6ms/step - loss: 0.0586 - f1_metric: 0.9493\n",
            "Epoch 32/50\n",
            " 31/203 [===>..........................] - ETA: 0s - loss: 0.0512 - f1_metric: 0.9613"
          ]
        },
        {
          "output_type": "stream",
          "name": "stderr",
          "text": [
            "/usr/local/lib/python3.9/dist-packages/sklearn/metrics/_classification.py:1609: UndefinedMetricWarning: F-score is ill-defined and being set to 0.0 due to no true nor predicted samples. Use `zero_division` parameter to control this behavior.\n",
            "  _warn_prf(average, \"true nor predicted\", \"F-score is\", len(true_sum))\n"
          ]
        },
        {
          "output_type": "stream",
          "name": "stdout",
          "text": [
            "203/203 [==============================] - 1s 7ms/step - loss: 0.0586 - f1_metric: 0.9560\n",
            "Epoch 33/50\n",
            "203/203 [==============================] - 1s 7ms/step - loss: 0.0593 - f1_metric: 0.9489\n",
            "Epoch 34/50\n",
            "203/203 [==============================] - 1s 5ms/step - loss: 0.0589 - f1_metric: 0.9506\n",
            "Epoch 35/50\n",
            "203/203 [==============================] - 1s 5ms/step - loss: 0.0586 - f1_metric: 0.9556\n",
            "Epoch 36/50\n",
            "203/203 [==============================] - 1s 6ms/step - loss: 0.0587 - f1_metric: 0.9523\n",
            "Epoch 37/50\n",
            "203/203 [==============================] - 1s 6ms/step - loss: 0.0590 - f1_metric: 0.9557\n",
            "Epoch 38/50\n",
            "203/203 [==============================] - 1s 5ms/step - loss: 0.0583 - f1_metric: 0.9496\n",
            "Epoch 39/50\n",
            "203/203 [==============================] - 1s 5ms/step - loss: 0.0585 - f1_metric: 0.9517\n",
            "Epoch 40/50\n",
            "203/203 [==============================] - 1s 6ms/step - loss: 0.0585 - f1_metric: 0.9550\n",
            "Epoch 41/50\n",
            "203/203 [==============================] - 1s 5ms/step - loss: 0.0584 - f1_metric: 0.9536\n",
            "Epoch 42/50\n",
            "203/203 [==============================] - 1s 7ms/step - loss: 0.0585 - f1_metric: 0.9538\n",
            "Epoch 43/50\n",
            " 42/203 [=====>........................] - ETA: 1s - loss: 0.0574 - f1_metric: 0.9459"
          ]
        }
      ],
      "source": [
        "\n",
        "l0 = tf.keras.layers.Dense(units=4, input_shape=[8])\n",
        "l1 = tf.keras.layers.Dense(units=16)\n",
        "l2 = tf.keras.layers.Dense(units=16)\n",
        "l3 =tf.keras.layers.Dense(64, activation='relu')\n",
        "l4=tf.keras.layers.Dense(1,activation='sigmoid')\n",
        "\n",
        "model = tf.keras.Sequential([l0, l1, l2,l3,l4])\n",
        "print('\\n start *************************\\n')\n",
        "model.compile(optimizer='adam',  loss=tf.keras.losses.BinaryCrossentropy(from_logits=True) ,metrics=[f1_metric])#'accuracy',tf.keras.metrics.Precision(), tf.keras.metrics.Recall()])\n",
        "history = model.fit(X_train, y_train, epochs=50, verbose=True)\n"
      ]
    },
    {
      "cell_type": "code",
      "source": [
        "print(*y_test)\n"
      ],
      "metadata": {
        "id": "_JQHJvXxj6wQ"
      },
      "execution_count": null,
      "outputs": []
    },
    {
      "cell_type": "code",
      "source": [
        "#test_loss,accuracy_val,press_vall,recall_press=model.evaluate(X_test, y_test)\n",
        "loss_test,f1score=model.evaluate(X_test, y_test)"
      ],
      "metadata": {
        "id": "LV5dyicBS8jB"
      },
      "execution_count": null,
      "outputs": []
    },
    {
      "cell_type": "code",
      "source": [],
      "metadata": {
        "id": "5sQJmYeDlGF_"
      },
      "execution_count": null,
      "outputs": []
    },
    {
      "cell_type": "code",
      "source": [
        "data_test = pd.read_csv('/content/gym_test.csv')\n",
        "X=data_test.drop(['Row','Zipcode','Registration' ], axis=1)\n",
        "X=data_test.drop(['Exited'],axis=1)\n",
        "X = (X-np.mean(X,axis=0))/np.std(X)\n",
        "X"
      ],
      "metadata": {
        "id": "D5nokYb0T7nj"
      },
      "execution_count": null,
      "outputs": []
    },
    {
      "cell_type": "code",
      "source": [
        "predictions=model.predict(X)\n",
        "#predictions=np.argmax(predictions)\n",
        "\n",
        "predictions = tf.cast(tf.round(predictions + 0.3), dtype=tf.int32)\n",
        "predictions\n"
      ],
      "metadata": {
        "id": "QIvbmGroeVrZ"
      },
      "execution_count": null,
      "outputs": []
    },
    {
      "cell_type": "code",
      "source": [
        "loss_test,f1score=model.evaluate(X, predictions)\n"
      ],
      "metadata": {
        "id": "0Eu9ad85lHIm"
      },
      "execution_count": null,
      "outputs": []
    },
    {
      "cell_type": "code",
      "source": [
        "data_test['Exited']=predictions\n",
        "data_test\n"
      ],
      "metadata": {
        "id": "AbIFp4jBl1l0"
      },
      "execution_count": null,
      "outputs": []
    },
    {
      "cell_type": "code",
      "source": [
        "data_test.to_csv('gym_test_best.csv', index=False)\n",
        "data_test = pd.read_csv('/content/gym_test_best.csv')\n",
        "data_test"
      ],
      "metadata": {
        "id": "nSFkqlR-mUT_"
      },
      "execution_count": null,
      "outputs": []
    }
  ]
}